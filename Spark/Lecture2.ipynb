{
 "cells": [
  {
   "cell_type": "markdown",
   "id": "91590d5d",
   "metadata": {},
   "source": [
    "# Lecture 2: Spark Dataframes\n",
    "\n",
    "Spark SQL is the Spark module dedicated to store and process structured datasets.\n",
    "\n",
    "As we have discussed already at the beginning at this course, structured datasets are very common in both scientific and non-scientific environments.\n",
    "\n",
    "Structured data is typically represented using abstractions such as Pandas Dataframes or Relational Databases tables. \n",
    "\n",
    "In Spark, structured datasets are referred to as Spark Dataframes.\n",
    "A Spark Dataframes is still built on top of the RDD low-level API, offering the same underlying logic concerning storing and partitioning data across multiple nodes, but also provide a richer set of functionalities and optimizations."
   ]
  },
  {
   "cell_type": "markdown",
   "id": "38914c8b",
   "metadata": {},
   "source": [
    "## Create and Start a Spark Session"
   ]
  },
  {
   "cell_type": "code",
   "execution_count": 1,
   "id": "a3ee5986",
   "metadata": {},
   "outputs": [
    {
     "name": "stderr",
     "output_type": "stream",
     "text": [
      "Setting default log level to \"WARN\".\n",
      "To adjust logging level use sc.setLogLevel(newLevel). For SparkR, use setLogLevel(newLevel).\n"
     ]
    },
    {
     "name": "stdout",
     "output_type": "stream",
     "text": [
      "23/05/30 09:20:50 WARN NativeCodeLoader: Unable to load native-hadoop library for your platform... using builtin-java classes where applicable\n"
     ]
    }
   ],
   "source": [
    "# import the python libraries to create/connect to a Spark Session\n",
    "from pyspark.sql import SparkSession\n",
    "\n",
    "# build a SparkSession \n",
    "#   connect to the master node on the port where the master node is listening (7077)\n",
    "#   declare the app name \n",
    "#   configure the executor memory to 512 MB\n",
    "#   either *connect* or *create* a new Spark Context\n",
    "spark = SparkSession.builder \\\n",
    "    .master(\"spark://spark-master:7077\")\\\n",
    "    .appName(\"My dataframe spark application\")\\\n",
    "    .config(\"spark.executor.memory\", \"512m\")\\\n",
    "    .config(\"spark.sql.execution.arrow.pyspark.enabled\", \"true\")\\\n",
    "    .config(\"spark.sql.execution.arrow.pyspark.fallback.enabled\", \"false\")\\\n",
    "    .getOrCreate()"
   ]
  },
  {
   "cell_type": "code",
   "execution_count": 2,
   "id": "5beebfa7",
   "metadata": {
    "scrolled": true
   },
   "outputs": [
    {
     "data": {
      "text/html": [
       "\n",
       "            <div>\n",
       "                <p><b>SparkSession - in-memory</b></p>\n",
       "                \n",
       "        <div>\n",
       "            <p><b>SparkContext</b></p>\n",
       "\n",
       "            <p><a href=\"http://799bc060c6d2:4040\">Spark UI</a></p>\n",
       "\n",
       "            <dl>\n",
       "              <dt>Version</dt>\n",
       "                <dd><code>v3.3.2</code></dd>\n",
       "              <dt>Master</dt>\n",
       "                <dd><code>spark://spark-master:7077</code></dd>\n",
       "              <dt>AppName</dt>\n",
       "                <dd><code>My dataframe spark application</code></dd>\n",
       "            </dl>\n",
       "        </div>\n",
       "        \n",
       "            </div>\n",
       "        "
      ],
      "text/plain": [
       "<pyspark.sql.session.SparkSession at 0x40589cbc70>"
      ]
     },
     "execution_count": 2,
     "metadata": {},
     "output_type": "execute_result"
    }
   ],
   "source": [
    "spark"
   ]
  },
  {
   "cell_type": "code",
   "execution_count": 3,
   "id": "efa4a9d8",
   "metadata": {},
   "outputs": [
    {
     "data": {
      "text/html": [
       "\n",
       "        <div>\n",
       "            <p><b>SparkContext</b></p>\n",
       "\n",
       "            <p><a href=\"http://799bc060c6d2:4040\">Spark UI</a></p>\n",
       "\n",
       "            <dl>\n",
       "              <dt>Version</dt>\n",
       "                <dd><code>v3.3.2</code></dd>\n",
       "              <dt>Master</dt>\n",
       "                <dd><code>spark://spark-master:7077</code></dd>\n",
       "              <dt>AppName</dt>\n",
       "                <dd><code>My dataframe spark application</code></dd>\n",
       "            </dl>\n",
       "        </div>\n",
       "        "
      ],
      "text/plain": [
       "<SparkContext master=spark://spark-master:7077 appName=My dataframe spark application>"
      ]
     },
     "execution_count": 3,
     "metadata": {},
     "output_type": "execute_result"
    }
   ],
   "source": [
    "# create a spark context\n",
    "sc = spark.sparkContext\n",
    "\n",
    "# print its status\n",
    "sc"
   ]
  },
  {
   "cell_type": "markdown",
   "id": "14d0dbef",
   "metadata": {},
   "source": [
    "## Creating a Spark DataFrame\n",
    "\n",
    "A Spark DataFrame is a **distributed** collection of data grouped into named columns.\n",
    "\n",
    "A Spark DataFrame is already very similar to the Pandas DataFrame API, and it can be created in a multitude of possible ways:\n",
    "\n",
    "- creating and appending a list of Spark Rows (Spark objects for records) with an *implicit* schema definition\n",
    "- creating and appending a list of Python tuples with a *explicit* schema definition\n",
    "- importing a Pandas DataFrame\n",
    "- from the results of a SQL query over a database or another DataFrame\n",
    "- from a collection of input files privided with a schema"
   ]
  },
  {
   "cell_type": "markdown",
   "id": "cdec2328",
   "metadata": {},
   "source": [
    "### Create a spark dataframe from a list of Rows\n",
    "\n",
    "The Spark `Row` is the native Spark object that hosts the data of a record in a Spark Dataframe.\n",
    "It's equivalent to a Python tuple or a dictionary."
   ]
  },
  {
   "cell_type": "code",
   "execution_count": null,
   "id": "b3f820ef",
   "metadata": {},
   "outputs": [],
   "source": [
    "# create a spark dataframe from a list of Rows\n",
    "\n",
    "# import the Row class from the pyspark.sql module\n",
    "from pyspark.sql import Row\n",
    "from datetime import date, datetime\n",
    "\n",
    "# create a list of Row objects\n",
    "#   each Row object contains a list of values\n",
    "#   the list of values can be of different types\n",
    "#   the list of values must be in the same order as the list of columns\n",
    "df = spark.createDataFrame([\n",
    "    Row(a=1, b=2., c='string1', d=date(2000, 1, 1), e=datetime(2000, 1, 1, 12, 0)),\n",
    "    Row(a=2, b=3., c='string2', d=date(2000, 2, 1), e=datetime(2000, 1, 2, 12, 0)),\n",
    "    Row(a=4, b=5., c='string3', d=date(2000, 3, 1), e=datetime(2000, 1, 3, 12, 0))\n",
    "])\n",
    "\n",
    "# print the spark dataframe\n",
    "df"
   ]
  },
  {
   "cell_type": "markdown",
   "id": "3b73417a",
   "metadata": {},
   "source": [
    "### Create a spark dataframe from a list of tuples\n",
    "\n",
    "PySpark allows to pass as records a list of Python tuples.\n",
    "However, to allow Spark to interpret correctly the tuple fields, an **explicit schema definition** is required."
   ]
  },
  {
   "cell_type": "code",
   "execution_count": null,
   "id": "c118bbe9",
   "metadata": {},
   "outputs": [],
   "source": [
    "# create a spark dataframe from a list of Python tuples\n",
    "\n",
    "# create a list of Python tuples\n",
    "#   when creating the spark dataframe we must also \n",
    "#   pass the definition of the data types (i.e. the schema)\n",
    "df = spark.createDataFrame([\n",
    "    (1, 2., 'string1', date(2000, 1, 1), datetime(2000, 1, 1, 12, 0)),\n",
    "    (2, 3., 'string2', date(2000, 2, 1), datetime(2000, 1, 2, 12, 0)),\n",
    "    (3, 4., 'string3', date(2000, 3, 1), datetime(2000, 1, 3, 12, 0))\n",
    "], schema='a long, b double, c string, d date, e timestamp')\n",
    "\n",
    "# print the spark dataframe\n",
    "df"
   ]
  },
  {
   "cell_type": "markdown",
   "id": "7872fad9",
   "metadata": {},
   "source": [
    "### Create a spark dataframe from a Pandas dataframe\n",
    "\n",
    "PySpark can create a dataframe starting from a Pandas dataframe.\n",
    "\n",
    "It should be noted that Pandas dataframe is meant to be stored in memory of a local machine, while Spark is designed for hosting large datasets on storage/memory of multiple nodes.\n",
    "\n",
    "Moving data that can be hosted on a local machine using Pandas to a remote cluster using Spark is tipically not a very common usecase."
   ]
  },
  {
   "cell_type": "code",
   "execution_count": null,
   "id": "d6383baf",
   "metadata": {},
   "outputs": [],
   "source": [
    "# import pandas\n",
    "import pandas as pd\n",
    "\n",
    "# create an equivalent pandas dataframe\n",
    "pandas_df = pd.DataFrame({\n",
    "    'a': [1, 2, 3],\n",
    "    'b': [2., 3., 4.],\n",
    "    'c': ['string1', 'string2', 'string3'],\n",
    "    'd': [date(2000, 1, 1), date(2000, 2, 1), date(2000, 3, 1)],\n",
    "    'e': [datetime(2000, 1, 1, 12, 0), datetime(2000, 1, 2, 12, 0), datetime(2000, 1, 3, 12, 0)]\n",
    "})\n",
    "\n",
    "# create the spark dataframe from the pandas one\n",
    "df = spark.createDataFrame(pandas_df)\n",
    "\n",
    "# print the spark dataframe\n",
    "df"
   ]
  },
  {
   "cell_type": "markdown",
   "id": "d79a4973",
   "metadata": {},
   "source": [
    "As in the case of the creation of an RDD, the mere creation of a Spark DataFrame does not imply any work is submitted to the executors.\n",
    "\n",
    "Whenever we ask Spark to retrieve something from the dataset we instead trigger the execution of the jobs (as usual, subdivided in stages and tasks), starting from loading the dataset into memory/storage of the remote cluster nodes."
   ]
  },
  {
   "cell_type": "markdown",
   "id": "aa7ef1cf",
   "metadata": {},
   "source": [
    "To use a Spark DataFrame we have similar interfaces as in Pandas:\n",
    "- `DataFrame.show()` to visualize its content (i.e. its state/instance)\n",
    "- `DataFrame.printSchema()` to visualize the schema of the structured dataset"
   ]
  },
  {
   "cell_type": "code",
   "execution_count": null,
   "id": "099b1ea4",
   "metadata": {},
   "outputs": [],
   "source": [
    "# print the first 10 rows (if available) of the dataframe\n",
    "df.show()"
   ]
  },
  {
   "cell_type": "code",
   "execution_count": null,
   "id": "016c8dc7",
   "metadata": {},
   "outputs": [],
   "source": [
    "# print the schema of the DataFrame\n",
    "df.printSchema()"
   ]
  },
  {
   "cell_type": "markdown",
   "id": "4f6c8db3",
   "metadata": {},
   "source": [
    "## Loading structured data\n",
    "\n",
    "By default Spark can create a DataFrame from data stored in many formats such as `csv`, `json`, `avro`, `parquet`, and many other listed [here](https://spark.apache.org/docs/latest/sql-data-sources-load-save-functions.html). \n",
    "\n",
    "If your dataset is stored in a format that Spark DataFrame cannot understand and interpret natively, it is always possible to first create an RDD as in the previous lecture, and later convert the RDD into a DataFrame with the `toDF()` functionality."
   ]
  },
  {
   "cell_type": "markdown",
   "id": "55ba4a26",
   "metadata": {},
   "source": [
    "Here we create some mock-up structured data in the form of a simple set of records with 2 features: `feature1` and `feature2`.\n",
    "\n",
    "We can parallelize the creation of the `Rows` in Spark as if we were loading and \"unpacking\" or parsing data from a set of files."
   ]
  },
  {
   "cell_type": "code",
   "execution_count": null,
   "id": "340d522c",
   "metadata": {},
   "outputs": [],
   "source": [
    "# import numpy for random\n",
    "import numpy as np\n",
    "\n",
    "# mock-up function to load data from a file\n",
    "def read_custom_data(file_name):\n",
    "    # this is a placeholder code for some operation\n",
    "    # you might have to perform when reading the files\n",
    "    # for example, you might have to read the file line by line\n",
    "    # and parse the lines into numerical values \n",
    "    custom_data = []\n",
    "    # create 5 random events\n",
    "    for _ in range(5):\n",
    "        # each event is a pair of random numbers\n",
    "        event = {\n",
    "            'feature1': np.random.random(),\n",
    "            'feature2': np.random.random()\n",
    "        }\n",
    "        # append each event to the list as a Spark Row object\n",
    "        custom_data.append(Row(**event))\n",
    "    return custom_data\n",
    "    \n",
    "# fake list of files to read\n",
    "file_list = ['file1', 'file2']\n",
    "\n",
    "# create an RDD parallelizing the read function on the file list\n",
    "rdd = sc.parallelize(file_list)\\\n",
    "        .flatMap(read_custom_data)\n",
    "\n",
    "# the RDD contains a list of Row objects, which can be converted \n",
    "# to a DataFrame by using the toDF() function\n",
    "df = rdd.toDF()"
   ]
  },
  {
   "cell_type": "markdown",
   "id": "fb7de1e0",
   "metadata": {},
   "source": [
    "The `df` object is now a Spark DataFrame containing a list of Rows.\n",
    "\n",
    "However, Spark will always remember the DataFrame is actually a RDD, and we can always operate and retrieve the underlying RDD object from the DataFrame API, simply by using `collect`."
   ]
  },
  {
   "cell_type": "code",
   "execution_count": null,
   "id": "c7076a24",
   "metadata": {},
   "outputs": [],
   "source": [
    "# print the whole set of values in the RDD\n",
    "rdd.collect()"
   ]
  },
  {
   "cell_type": "code",
   "execution_count": null,
   "id": "def7128a",
   "metadata": {},
   "outputs": [],
   "source": [
    "# perform the same operation on the dataframe\n",
    "df.collect() "
   ]
  },
  {
   "cell_type": "markdown",
   "id": "3d47b452",
   "metadata": {},
   "source": [
    "Issuing a `show()` or other high-level API functionalities designed for the DataFrame will instead \"wrap\" aroud the RDD to present the output with the proper DataFrame schema."
   ]
  },
  {
   "cell_type": "code",
   "execution_count": null,
   "id": "db0a3fe1",
   "metadata": {},
   "outputs": [],
   "source": [
    "# call a DataFrame show() method to display the first 5 rows of the DataFrame.\n",
    "df.show(5)"
   ]
  },
  {
   "cell_type": "markdown",
   "id": "17ffbf4c",
   "metadata": {},
   "source": [
    "## The `pyspark.pandas` API\n",
    "\n",
    "Quite recently PySpark introduced a dedicated `Pandas` API on Spark, geared mainly for new users to make it even easier to move to and from the Pandas DataFrame and the PySpark DataFrame equivalent."
   ]
  },
  {
   "cell_type": "code",
   "execution_count": null,
   "id": "066bf1b2",
   "metadata": {},
   "outputs": [],
   "source": [
    "# import the pandas api from pyspark\n",
    "import pyspark.pandas as ps"
   ]
  },
  {
   "cell_type": "markdown",
   "id": "771c4f88",
   "metadata": {},
   "source": [
    "With the `pyspark.pandas` API the DataFrame creation is now streamlined and almost identical to plain Pandas.\n",
    "\n",
    "Let's create a simple Pandas DataFrame and the equivalent PySpark one using the `pyspark.pandas` API."
   ]
  },
  {
   "cell_type": "code",
   "execution_count": null,
   "id": "fad249e4",
   "metadata": {},
   "outputs": [],
   "source": [
    "# create a dummy pandas dataframe\n",
    "pandas_df = pd.DataFrame(\n",
    "    {'a': [1, 2, 3, 4, 5, 6],\n",
    "     'b': [100, 200, 300, 400, 500, 600],\n",
    "     'c': [\"one\", \"two\", \"three\", \"four\", \"five\", \"six\"]},\n",
    "    index=[10, 20, 30, 40, 50, 60])"
   ]
  },
  {
   "cell_type": "code",
   "execution_count": null,
   "id": "045129e4",
   "metadata": {},
   "outputs": [],
   "source": [
    "# print the pandas dataframe\n",
    "pandas_df"
   ]
  },
  {
   "cell_type": "code",
   "execution_count": null,
   "id": "26bfb2d0",
   "metadata": {},
   "outputs": [],
   "source": [
    "# create the equivalent pyspark pandas dataframe\n",
    "pyspark_pandas_df = ps.DataFrame(\n",
    "    {'a': [1, 2, 3, 4, 5, 6],\n",
    "     'b': [100, 200, 300, 400, 500, 600],\n",
    "     'c': [\"one\", \"two\", \"three\", \"four\", \"five\", \"six\"]},\n",
    "    index=[10, 20, 30, 40, 50, 60])"
   ]
  },
  {
   "cell_type": "code",
   "execution_count": null,
   "id": "702518fb",
   "metadata": {
    "scrolled": true
   },
   "outputs": [],
   "source": [
    "# print the pyspark pandas dataframe\n",
    "pyspark_pandas_df"
   ]
  },
  {
   "cell_type": "markdown",
   "id": "b0c716ba",
   "metadata": {},
   "source": [
    "A good fraction of the common `Pandas` functions will still work on `pyspark.pandas`, so most probably a good fraction of the pure-Pandas code you have might as well work in Spark with little effort, and thus be parallelized and sped-up with little-to-no effort. \n",
    "\n",
    "However, not _all_ Pandas functionalities are implemented in PySpark.\n",
    "For this reason we will mostly use the PySpark DataFrame in this notebook to continue with the more \"traditional\" and robust approach.  \n",
    "\n",
    "Nonetheless, you are suggested to take a look at the documentation on the Pandas API on Spark at the [link](https://spark.apache.org/docs/latest/api/python/user_guide/pandas_on_spark/index.html), and to the [best practices](https://spark.apache.org/docs/latest/api/python/user_guide/pandas_on_spark/best_practices.html) and [supported pandas API](https://spark.apache.org/docs/latest/api/python/user_guide/pandas_on_spark/supported_pandas_api.html) if you want to use the PySpark-Pandas API more in your project."
   ]
  },
  {
   "cell_type": "markdown",
   "id": "c48da719",
   "metadata": {},
   "source": [
    "**NOTE**\n",
    "\n",
    "We also have to keep in mind that ***Pandas and PySpark are very different \"under the hood\"***.\n",
    "Where **Pandas** is **single-threaded** and will host the DataFrame data in **local memory**, **PySpark** is designed to host data into **partitions** using the **executors' memory (or storage)** and process it in a **distributed** way.\n",
    "\n",
    "This imply that many operations that are ideally very simple might be either impossible or simply very inefficient in PySpark.\n",
    "\n",
    "_For instance... how do you think the ordering of the entries in the table is handled when your dataframe is split into possibly hundreds of partitions?\n",
    "What if you want a dataframe to be sorted?_\n",
    "\n",
    "The data in a Spark dataframe does not preserve the natural order by default...\n",
    "We can force Spark to rearrange data in its \"natural\" (e.g. from an index) order but this causes a performance overhead with an additional stage of internal data sorting (a wide-depenency transformation)."
   ]
  },
  {
   "cell_type": "markdown",
   "id": "c8f2f9e1",
   "metadata": {},
   "source": [
    "## DataFrame analysis Example\n",
    "\n",
    "Let's run an end-to-end example of a simple data analysis performed using the PySpark DataFrame API.\n",
    "\n",
    "For this example we'll use a subsample of data produced by a particle physics experiment at CERN, and will attempt to reconstruct the mass spectrum of a particle from its decay product."
   ]
  },
  {
   "cell_type": "markdown",
   "id": "002aabf8",
   "metadata": {},
   "source": [
    "### The dimuon mass spectrum\n",
    "\n",
    "Several particles decay in a pair of opposite charged leptons (electrons, muons and taus).\n",
    "\n",
    "The dimuon spectrum, computed by calculating the invariant mass of muon pairs with opposite charge, features the presence of a number of narrow resonances, corresponding to the mass of the parent particle: from the η meson at about 548 MeV  up to the Z boson at about 91 GeV.\n",
    "\n",
    "Rare processes are also associated to this very same final state, such as the Bs dimuon decay (first observed in 2012 at CMS and LHCb), and the elusive Higgs dimuon decay (for which there is statistical evidence, but not yet an observation); new yet undiscovered particles might also show up as new resonances in the dimuon spectrum as the statistics and accelerator energy is increased.\n",
    "\n",
    "![Event Display](imgs/lecture2/event_display.png)\n",
    "\n",
    "The dataset used in this exercise is taken from the CERN Open Data portal (https://opendata.cern.ch/) and represents only a tiny portion of the whole data collected by the CMS collaboration at the Large Hadron Collider in 2010.\n",
    "\n",
    "This dataset is comprised of only the fraction of events (i.e. particle collisions) retained by online selections (trigger) which identify collisions where muons have been produced, thus storing only about 10 events out of the about 40 millions of collisions produced every second at the LHC.\n",
    "\n",
    "The whole dataset collected by the CMS collaboration since the start of LHC operations in 2010 is comprised of roughly 100 PBs of data, and even more if taking into account the simulations.\n",
    "\n",
    "A small subset of the events have been extracted and preprocessed by Matteo, our T.A., who have stored the resulting records as `json` files."
   ]
  },
  {
   "cell_type": "code",
   "execution_count": 4,
   "id": "efd1e8a6",
   "metadata": {},
   "outputs": [
    {
     "name": "stdout",
     "output_type": "stream",
     "text": [
      "-rw-r--r-- 1 root root 812085 Apr 26 08:07 ../datasets/lecture2/dimuon/data_0.json\r\n",
      "-rw-r--r-- 1 root root 801879 Apr 26 08:07 ../datasets/lecture2/dimuon/data_1.json\r\n",
      "-rw-r--r-- 1 root root 797197 Apr 26 08:07 ../datasets/lecture2/dimuon/data_2.json\r\n",
      "-rw-r--r-- 1 root root 807597 Apr 26 08:07 ../datasets/lecture2/dimuon/data_3.json\r\n",
      "-rw-r--r-- 1 root root 799713 Apr 26 08:07 ../datasets/lecture2/dimuon/data_4.json\r\n",
      "-rw-r--r-- 1 root root 797419 Apr 26 08:07 ../datasets/lecture2/dimuon/data_5.json\r\n",
      "-rw-r--r-- 1 root root 796185 Apr 26 08:07 ../datasets/lecture2/dimuon/data_6.json\r\n",
      "-rw-r--r-- 1 root root 779189 Apr 26 08:07 ../datasets/lecture2/dimuon/data_7.json\r\n",
      "-rw-r--r-- 1 root root 802672 Apr 26 08:07 ../datasets/lecture2/dimuon/data_8.json\r\n",
      "-rw-r--r-- 1 root root 807388 Apr 26 08:07 ../datasets/lecture2/dimuon/data_9.json\r\n",
      "-rw-r--r-- 1 root root 800197 Apr 26 08:07 ../datasets/lecture2/dimuon/mc_0.json\r\n",
      "-rw-r--r-- 1 root root 778671 Apr 26 08:07 ../datasets/lecture2/dimuon/mc_1.json\r\n",
      "-rw-r--r-- 1 root root 783816 Apr 26 08:07 ../datasets/lecture2/dimuon/mc_2.json\r\n",
      "-rw-r--r-- 1 root root 782878 Apr 26 08:07 ../datasets/lecture2/dimuon/mc_3.json\r\n",
      "-rw-r--r-- 1 root root 783690 Apr 26 08:07 ../datasets/lecture2/dimuon/mc_4.json\r\n",
      "-rw-r--r-- 1 root root 793647 Apr 26 08:07 ../datasets/lecture2/dimuon/mc_5.json\r\n",
      "-rw-r--r-- 1 root root 794317 Apr 26 08:07 ../datasets/lecture2/dimuon/mc_6.json\r\n",
      "-rw-r--r-- 1 root root 787989 Apr 26 08:07 ../datasets/lecture2/dimuon/mc_7.json\r\n",
      "-rw-r--r-- 1 root root 802891 Apr 26 08:07 ../datasets/lecture2/dimuon/mc_8.json\r\n",
      "-rw-r--r-- 1 root root 800158 Apr 26 08:07 ../datasets/lecture2/dimuon/mc_9.json\r\n"
     ]
    }
   ],
   "source": [
    "# list all available files\n",
    "!ls -l ../datasets/lecture2/dimuon/*.json"
   ]
  },
  {
   "cell_type": "markdown",
   "id": "f1a0d71b",
   "metadata": {},
   "source": [
    "#### Step 0 - Load and inspect the data\n",
    "\n",
    "Load the `json` files directly in a Spark DataFrame using the built-in data loading functions"
   ]
  },
  {
   "cell_type": "code",
   "execution_count": 5,
   "id": "7b64245b",
   "metadata": {},
   "outputs": [
    {
     "name": "stderr",
     "output_type": "stream",
     "text": [
      "[Stage 0:>                                                          (0 + 1) / 2]\r"
     ]
    },
    {
     "name": "stdout",
     "output_type": "stream",
     "text": [
      "23/05/30 09:26:57 WARN HeartbeatReceiver: Removing executor 0 with no recent heartbeats: 120072 ms exceeds timeout 120000 ms\n",
      "23/05/30 09:26:58 ERROR TaskSchedulerImpl: Lost executor 0 on 172.18.0.3: Executor heartbeat timed out after 120072 ms\n",
      "23/05/30 09:26:58 WARN TaskSetManager: Lost task 0.0 in stage 0.0 (TID 0) (172.18.0.3 executor 0): ExecutorLostFailure (executor 0 exited caused by one of the running tasks) Reason: Executor heartbeat timed out after 120072 ms\n"
     ]
    },
    {
     "name": "stderr",
     "output_type": "stream",
     "text": [
      "\r",
      "[Stage 0:>                                                          (0 + 0) / 2]\r"
     ]
    },
    {
     "name": "stdout",
     "output_type": "stream",
     "text": [
      "23/05/30 09:27:08 WARN TransportChannelHandler: Exception in connection from /172.18.0.3:57430\n",
      "java.io.IOException: Connection reset by peer\n",
      "\tat java.base/sun.nio.ch.FileDispatcherImpl.read0(Native Method)\n",
      "\tat java.base/sun.nio.ch.SocketDispatcher.read(SocketDispatcher.java:39)\n",
      "\tat java.base/sun.nio.ch.IOUtil.readIntoNativeBuffer(IOUtil.java:276)\n",
      "\tat java.base/sun.nio.ch.IOUtil.read(IOUtil.java:233)\n",
      "\tat java.base/sun.nio.ch.IOUtil.read(IOUtil.java:223)\n",
      "\tat java.base/sun.nio.ch.SocketChannelImpl.read(SocketChannelImpl.java:356)\n",
      "\tat io.netty.buffer.PooledByteBuf.setBytes(PooledByteBuf.java:258)\n",
      "\tat io.netty.buffer.AbstractByteBuf.writeBytes(AbstractByteBuf.java:1132)\n",
      "\tat io.netty.channel.socket.nio.NioSocketChannel.doReadBytes(NioSocketChannel.java:350)\n",
      "\tat io.netty.channel.nio.AbstractNioByteChannel$NioByteUnsafe.read(AbstractNioByteChannel.java:151)\n",
      "\tat io.netty.channel.nio.NioEventLoop.processSelectedKey(NioEventLoop.java:722)\n",
      "\tat io.netty.channel.nio.NioEventLoop.processSelectedKeysOptimized(NioEventLoop.java:658)\n",
      "\tat io.netty.channel.nio.NioEventLoop.processSelectedKeys(NioEventLoop.java:584)\n",
      "\tat io.netty.channel.nio.NioEventLoop.run(NioEventLoop.java:496)\n",
      "\tat io.netty.util.concurrent.SingleThreadEventExecutor$4.run(SingleThreadEventExecutor.java:986)\n",
      "\tat io.netty.util.internal.ThreadExecutorMap$2.run(ThreadExecutorMap.java:74)\n",
      "\tat io.netty.util.concurrent.FastThreadLocalRunnable.run(FastThreadLocalRunnable.java:30)\n",
      "\tat java.base/java.lang.Thread.run(Thread.java:829)\n"
     ]
    },
    {
     "name": "stderr",
     "output_type": "stream",
     "text": [
      "                                                                                \r"
     ]
    }
   ],
   "source": [
    "# load the dataset found in  the datasets/lecture2/dimuon folder\n",
    "#    spark.read --> read from a source of data\n",
    "#    option     --> specify the options for the data source\n",
    "#    format     --> specify the format of the data source\n",
    "#    load       --> specify the path of the inpute data\n",
    "df = spark.read \\\n",
    "    .option(\"inferTimestamp\",\"false\") \\\n",
    "    .option(\"prefersDecimal\",\"false\") \\\n",
    "    .format('json') \\\n",
    "    .load('../datasets/lecture2/dimuon/*.json')"
   ]
  },
  {
   "cell_type": "markdown",
   "id": "3bf996c8",
   "metadata": {},
   "source": [
    "Once again, the data at this stage is not loaded in a DataFrame just yet.\n",
    "Reading and loading files from source to an RDD (the low-level representation of the DataFrame) is a transformation, and therefore is _lazy_.\n",
    "\n",
    "Let's inspect the schema of our dataset"
   ]
  },
  {
   "cell_type": "code",
   "execution_count": 7,
   "id": "d189a6a4",
   "metadata": {},
   "outputs": [
    {
     "name": "stderr",
     "output_type": "stream",
     "text": [
      "ERROR:root:Exception while sending command.\n",
      "Traceback (most recent call last):\n",
      "  File \"/usr/bin/spark-3.3.2-bin-hadoop3/python/lib/py4j-0.10.9.5-src.zip/py4j/clientserver.py\", line 516, in send_command\n",
      "    raise Py4JNetworkError(\"Answer from Java side is empty\")\n",
      "py4j.protocol.Py4JNetworkError: Answer from Java side is empty\n",
      "\n",
      "During handling of the above exception, another exception occurred:\n",
      "\n",
      "Traceback (most recent call last):\n",
      "  File \"/usr/bin/spark-3.3.2-bin-hadoop3/python/lib/py4j-0.10.9.5-src.zip/py4j/java_gateway.py\", line 1038, in send_command\n",
      "    response = connection.send_command(command)\n",
      "  File \"/usr/bin/spark-3.3.2-bin-hadoop3/python/lib/py4j-0.10.9.5-src.zip/py4j/clientserver.py\", line 539, in send_command\n",
      "    raise Py4JNetworkError(\n",
      "py4j.protocol.Py4JNetworkError: Error while sending or receiving\n"
     ]
    },
    {
     "ename": "Py4JError",
     "evalue": "An error occurred while calling o41.schema",
     "output_type": "error",
     "traceback": [
      "\u001b[0;31m---------------------------------------------------------------------------\u001b[0m",
      "\u001b[0;31mPy4JError\u001b[0m                                 Traceback (most recent call last)",
      "Cell \u001b[0;32mIn[7], line 2\u001b[0m\n\u001b[1;32m      1\u001b[0m \u001b[38;5;66;03m# print the schema of the dataframe\u001b[39;00m\n\u001b[0;32m----> 2\u001b[0m \u001b[43mdf\u001b[49m\u001b[38;5;241;43m.\u001b[39;49m\u001b[43mprintSchema\u001b[49m\u001b[43m(\u001b[49m\u001b[43m)\u001b[49m\n",
      "File \u001b[0;32m/usr/bin/spark-3.3.2-bin-hadoop3/python/pyspark/sql/dataframe.py:392\u001b[0m, in \u001b[0;36mDataFrame.printSchema\u001b[0;34m(self)\u001b[0m\n\u001b[1;32m    379\u001b[0m \u001b[38;5;28;01mdef\u001b[39;00m \u001b[38;5;21mprintSchema\u001b[39m(\u001b[38;5;28mself\u001b[39m) \u001b[38;5;241m-\u001b[39m\u001b[38;5;241m>\u001b[39m \u001b[38;5;28;01mNone\u001b[39;00m:\n\u001b[1;32m    380\u001b[0m \u001b[38;5;250m    \u001b[39m\u001b[38;5;124;03m\"\"\"Prints out the schema in the tree format.\u001b[39;00m\n\u001b[1;32m    381\u001b[0m \n\u001b[1;32m    382\u001b[0m \u001b[38;5;124;03m    .. versionadded:: 1.3.0\u001b[39;00m\n\u001b[0;32m   (...)\u001b[0m\n\u001b[1;32m    390\u001b[0m \u001b[38;5;124;03m    <BLANKLINE>\u001b[39;00m\n\u001b[1;32m    391\u001b[0m \u001b[38;5;124;03m    \"\"\"\u001b[39;00m\n\u001b[0;32m--> 392\u001b[0m     \u001b[38;5;28mprint\u001b[39m(\u001b[38;5;28;43mself\u001b[39;49m\u001b[38;5;241;43m.\u001b[39;49m\u001b[43m_jdf\u001b[49m\u001b[38;5;241;43m.\u001b[39;49m\u001b[43mschema\u001b[49m\u001b[43m(\u001b[49m\u001b[43m)\u001b[49m\u001b[38;5;241m.\u001b[39mtreeString())\n",
      "File \u001b[0;32m/usr/bin/spark-3.3.2-bin-hadoop3/python/lib/py4j-0.10.9.5-src.zip/py4j/java_gateway.py:1321\u001b[0m, in \u001b[0;36mJavaMember.__call__\u001b[0;34m(self, *args)\u001b[0m\n\u001b[1;32m   1315\u001b[0m command \u001b[38;5;241m=\u001b[39m proto\u001b[38;5;241m.\u001b[39mCALL_COMMAND_NAME \u001b[38;5;241m+\u001b[39m\\\n\u001b[1;32m   1316\u001b[0m     \u001b[38;5;28mself\u001b[39m\u001b[38;5;241m.\u001b[39mcommand_header \u001b[38;5;241m+\u001b[39m\\\n\u001b[1;32m   1317\u001b[0m     args_command \u001b[38;5;241m+\u001b[39m\\\n\u001b[1;32m   1318\u001b[0m     proto\u001b[38;5;241m.\u001b[39mEND_COMMAND_PART\n\u001b[1;32m   1320\u001b[0m answer \u001b[38;5;241m=\u001b[39m \u001b[38;5;28mself\u001b[39m\u001b[38;5;241m.\u001b[39mgateway_client\u001b[38;5;241m.\u001b[39msend_command(command)\n\u001b[0;32m-> 1321\u001b[0m return_value \u001b[38;5;241m=\u001b[39m \u001b[43mget_return_value\u001b[49m\u001b[43m(\u001b[49m\n\u001b[1;32m   1322\u001b[0m \u001b[43m    \u001b[49m\u001b[43manswer\u001b[49m\u001b[43m,\u001b[49m\u001b[43m \u001b[49m\u001b[38;5;28;43mself\u001b[39;49m\u001b[38;5;241;43m.\u001b[39;49m\u001b[43mgateway_client\u001b[49m\u001b[43m,\u001b[49m\u001b[43m \u001b[49m\u001b[38;5;28;43mself\u001b[39;49m\u001b[38;5;241;43m.\u001b[39;49m\u001b[43mtarget_id\u001b[49m\u001b[43m,\u001b[49m\u001b[43m \u001b[49m\u001b[38;5;28;43mself\u001b[39;49m\u001b[38;5;241;43m.\u001b[39;49m\u001b[43mname\u001b[49m\u001b[43m)\u001b[49m\n\u001b[1;32m   1324\u001b[0m \u001b[38;5;28;01mfor\u001b[39;00m temp_arg \u001b[38;5;129;01min\u001b[39;00m temp_args:\n\u001b[1;32m   1325\u001b[0m     temp_arg\u001b[38;5;241m.\u001b[39m_detach()\n",
      "File \u001b[0;32m/usr/bin/spark-3.3.2-bin-hadoop3/python/pyspark/sql/utils.py:190\u001b[0m, in \u001b[0;36mcapture_sql_exception.<locals>.deco\u001b[0;34m(*a, **kw)\u001b[0m\n\u001b[1;32m    188\u001b[0m \u001b[38;5;28;01mdef\u001b[39;00m \u001b[38;5;21mdeco\u001b[39m(\u001b[38;5;241m*\u001b[39ma: Any, \u001b[38;5;241m*\u001b[39m\u001b[38;5;241m*\u001b[39mkw: Any) \u001b[38;5;241m-\u001b[39m\u001b[38;5;241m>\u001b[39m Any:\n\u001b[1;32m    189\u001b[0m     \u001b[38;5;28;01mtry\u001b[39;00m:\n\u001b[0;32m--> 190\u001b[0m         \u001b[38;5;28;01mreturn\u001b[39;00m \u001b[43mf\u001b[49m\u001b[43m(\u001b[49m\u001b[38;5;241;43m*\u001b[39;49m\u001b[43ma\u001b[49m\u001b[43m,\u001b[49m\u001b[43m \u001b[49m\u001b[38;5;241;43m*\u001b[39;49m\u001b[38;5;241;43m*\u001b[39;49m\u001b[43mkw\u001b[49m\u001b[43m)\u001b[49m\n\u001b[1;32m    191\u001b[0m     \u001b[38;5;28;01mexcept\u001b[39;00m Py4JJavaError \u001b[38;5;28;01mas\u001b[39;00m e:\n\u001b[1;32m    192\u001b[0m         converted \u001b[38;5;241m=\u001b[39m convert_exception(e\u001b[38;5;241m.\u001b[39mjava_exception)\n",
      "File \u001b[0;32m/usr/bin/spark-3.3.2-bin-hadoop3/python/lib/py4j-0.10.9.5-src.zip/py4j/protocol.py:334\u001b[0m, in \u001b[0;36mget_return_value\u001b[0;34m(answer, gateway_client, target_id, name)\u001b[0m\n\u001b[1;32m    330\u001b[0m             \u001b[38;5;28;01mraise\u001b[39;00m Py4JError(\n\u001b[1;32m    331\u001b[0m                 \u001b[38;5;124m\"\u001b[39m\u001b[38;5;124mAn error occurred while calling \u001b[39m\u001b[38;5;132;01m{0}\u001b[39;00m\u001b[38;5;132;01m{1}\u001b[39;00m\u001b[38;5;132;01m{2}\u001b[39;00m\u001b[38;5;124m. Trace:\u001b[39m\u001b[38;5;130;01m\\n\u001b[39;00m\u001b[38;5;132;01m{3}\u001b[39;00m\u001b[38;5;130;01m\\n\u001b[39;00m\u001b[38;5;124m\"\u001b[39m\u001b[38;5;241m.\u001b[39m\n\u001b[1;32m    332\u001b[0m                 \u001b[38;5;28mformat\u001b[39m(target_id, \u001b[38;5;124m\"\u001b[39m\u001b[38;5;124m.\u001b[39m\u001b[38;5;124m\"\u001b[39m, name, value))\n\u001b[1;32m    333\u001b[0m     \u001b[38;5;28;01melse\u001b[39;00m:\n\u001b[0;32m--> 334\u001b[0m         \u001b[38;5;28;01mraise\u001b[39;00m Py4JError(\n\u001b[1;32m    335\u001b[0m             \u001b[38;5;124m\"\u001b[39m\u001b[38;5;124mAn error occurred while calling \u001b[39m\u001b[38;5;132;01m{0}\u001b[39;00m\u001b[38;5;132;01m{1}\u001b[39;00m\u001b[38;5;132;01m{2}\u001b[39;00m\u001b[38;5;124m\"\u001b[39m\u001b[38;5;241m.\u001b[39m\n\u001b[1;32m    336\u001b[0m             \u001b[38;5;28mformat\u001b[39m(target_id, \u001b[38;5;124m\"\u001b[39m\u001b[38;5;124m.\u001b[39m\u001b[38;5;124m\"\u001b[39m, name))\n\u001b[1;32m    337\u001b[0m \u001b[38;5;28;01melse\u001b[39;00m:\n\u001b[1;32m    338\u001b[0m     \u001b[38;5;28mtype\u001b[39m \u001b[38;5;241m=\u001b[39m answer[\u001b[38;5;241m1\u001b[39m]\n",
      "\u001b[0;31mPy4JError\u001b[0m: An error occurred while calling o41.schema"
     ]
    }
   ],
   "source": [
    "# print the schema of the dataframe\n",
    "df.printSchema()"
   ]
  },
  {
   "cell_type": "markdown",
   "id": "215cea4b",
   "metadata": {},
   "source": [
    "The schema is quite interesting, as the data is not entirely _flat_.\n",
    "\n",
    "We have two scalar objects, `nMuon` and `sample`, respectively an integer and a string, per record.\n",
    "However, every record also contains a data structure named `Muons`, an array where each element contains the five numerical fields `E`, `charge`, `px`, `py`, `pz`.\n",
    "\n",
    "We can inspect a few elements by showing their content."
   ]
  },
  {
   "cell_type": "code",
   "execution_count": null,
   "id": "9e41b580",
   "metadata": {
    "scrolled": true
   },
   "outputs": [],
   "source": [
    "# show the first 5 rows of the dataframe\n",
    "df.show(5)"
   ]
  },
  {
   "cell_type": "markdown",
   "id": "65f6a7ec",
   "metadata": {},
   "source": [
    "In this example, `sample` is a simplified element representing whether the records are from _real data_ or from a _simulated sample_ generated with a MonteCarlo technique.\n",
    "\n",
    "We can evaluate how populated are the two samples with an aggregation operation using `groupBy`.\n",
    "\n",
    "`groupBy` acts in a similar way with respect to its `SQL` and `Pandas` counterparts, by creating groups from the DataFrame data using the specified columns, onto which we can apply an aggregation function.\n",
    "\n",
    "For a complete list of aggregation functions you can refer to the (documentation)[https://spark.apache.org/docs/3.1.1/api/python/reference/api/pyspark.sql.GroupedData.html#pyspark.sql.GroupedData]."
   ]
  },
  {
   "cell_type": "code",
   "execution_count": null,
   "id": "ddf7c767",
   "metadata": {},
   "outputs": [],
   "source": [
    "# count the number of records in each sample group\n",
    "# \n",
    "#   1. apply a .groupBy() transformation on the dataframe, grouping on the sample\n",
    "#   2. use a .count() aggregator \n",
    "#   3. show the results\n",
    "\n",
    "df=df.groupBy('sample')\n",
    "df=df.count()\n",
    "df.show(5)"
   ]
  },
  {
   "cell_type": "markdown",
   "id": "fd8089ec",
   "metadata": {},
   "source": [
    "All transformations on the DataFrame will start from loading the files from storage.\n",
    "This is particularly inefficient if we will need to run multiple sets of operations (transformations+action) on the same dataset.\n",
    "\n",
    "We can however place the DataFrame in memory as for the RDD."
   ]
  },
  {
   "cell_type": "code",
   "execution_count": null,
   "id": "473375c6",
   "metadata": {},
   "outputs": [],
   "source": [
    "# persist the dataframe to memory to avoid recomputing \n",
    "# everything from scratch at each iteration\n",
    "\n",
    "data=df.persist()"
   ]
  },
  {
   "cell_type": "markdown",
   "id": "d304c03e",
   "metadata": {},
   "source": [
    "We have already mentioned this but it's important: `persist` is not an in-place operation.\n",
    "\n",
    "With:\n",
    "```python\n",
    "df = df.persist()\n",
    "````\n",
    "Spark will create an entire copy of the DataFrame in the executors' memory.\n",
    "Every further operation using `df` will be run using the dataset stored in memory.\n",
    "\n",
    "With:\n",
    "```python\n",
    "df.persist()\n",
    "````\n",
    "Spark will still create an entire copy of the DataFrame in the executors' memory.\n",
    "However, every further operation using `df` will be run by loading the dataset every single time starting from files.\n",
    "\n",
    "`persist` is also considered a _transformation_ thus we need to trigger it in order to have effect."
   ]
  },
  {
   "cell_type": "code",
   "execution_count": null,
   "id": "66ff918b",
   "metadata": {},
   "outputs": [],
   "source": [
    "# let's trigger persist with a count operation\n",
    "data.count()"
   ]
  },
  {
   "cell_type": "markdown",
   "id": "7aebc1e6",
   "metadata": {},
   "source": [
    "#### Step 1 - First feature aggregation and plotting\n",
    "\n",
    "Let's finally start investigating the dataset by extracting some meaningful information.\n",
    "\n",
    "A first interesting information is to produce the distribution (an histogram) of the number of muons we have per event (thus per record) both in the `data` and in the `mc` samples, to compare them and see whether they do match.\n",
    "\n",
    "We can start by grouping the records by the number of muons per record and sample and count over them."
   ]
  },
  {
   "cell_type": "code",
   "execution_count": null,
   "id": "56cdbaad",
   "metadata": {},
   "outputs": [],
   "source": [
    "# group the records by the sample \n",
    "# and the number of muons\n",
    "#\n",
    "# 1. get the number of muons per sample\n",
    "# 2. count them\n",
    "# 3. sort them based on the number of muons\n",
    "# 4. collect the results\n",
    "num_muons_dist = df.groupBy(\"sample\",\"nMuons\").count().sort(\"nMuons\").collect()"
   ]
  },
  {
   "cell_type": "code",
   "execution_count": null,
   "id": "789f88c7",
   "metadata": {},
   "outputs": [],
   "source": [
    "# print the first 10 entries\n",
    "num_muons_dist[:10]"
   ]
  },
  {
   "cell_type": "markdown",
   "id": "0228a7a7",
   "metadata": {},
   "source": [
    "We have retrieved a pre-computed quantity from the cluster, thus having Spark do the \"heavy-lifting\" in a distributed way.\n",
    "The result is still a collection of `Row` object, in fact an RDD... not really the plot we would like, nor a simple Python object we can use to plot.\n",
    "We could retrieve directly a plot from Spark if we wanted, having it compute all features required to populate a graph, but that would require a lot of code.\n",
    "\n",
    "Fortunately though there is a trick we can use: it is possible to convert a Spark dataframe back into a Pandas Dataframe with `toPandas()`. \n",
    "\n",
    "Again, as it happens for `collect()`, the entire resulting dataset is fetched into the master and it may not fit in the memory, so do not use `toPandas()` very lightly."
   ]
  },
  {
   "cell_type": "markdown",
   "id": "24545648",
   "metadata": {},
   "source": [
    "[**Side Note on Apache Arrow**]\n",
    "\n",
    "_Apache Arrow comes into play in this contex: it is an in-memory columnar data format that is used in spark to efficiently transfer data between the JVM and Python processes. When it is not enabled Spark comunicates with python processes by serializing and deserializing one element of the time. With Arrow this operation is \"vectorized\", i.e. one column at the time is transfered. This is possible because both spark and pandas included Arrow representation._\n",
    "\n",
    "_[Here](https://xuechendi.github.io/2019/04/16/Apache-Arrow) you can find a nice blog post explaining how it works._\n",
    "\n",
    "_In this way, operations between PySpark and Pandas are more efficient and we can try to get the best from both worlds._"
   ]
  },
  {
   "cell_type": "code",
   "execution_count": null,
   "id": "d27ee0c7",
   "metadata": {},
   "outputs": [],
   "source": [
    "# import pandas\n",
    "import pandas as pd\n",
    "\n",
    "# do not collect the results as a plain RDD \n",
    "# but transform it into a pandas dataframe\n",
    "# using the .toPandas() function\n",
    "num_muons_dist = \n",
    "    df.groupBy(\"sample\",\"nMuons\").count().sort(\"nMuons\").toPandas()\n",
    "\n",
    "# print the first few rows of the pandas dataframe\n",
    "num_muons_dist.head()"
   ]
  },
  {
   "cell_type": "markdown",
   "id": "98f8f6a4",
   "metadata": {},
   "source": [
    "This way we have \"closed the loop\".\n",
    "\n",
    "- We have loaded data from a large number of files (possibly stored on a remote or distributed File System)\n",
    "- We have run a computationally expensive operation in parallel using a computing cluster\n",
    "- We have returned only the meaningful result (something that fits in memory) to our local machine\n",
    "- We have obtained a Python (pandas) object we can easily work with for the remainder of our analysis (plotting, etc)"
   ]
  },
  {
   "cell_type": "code",
   "execution_count": null,
   "id": "569dada1",
   "metadata": {},
   "outputs": [],
   "source": [
    "# verify the type of this python variable\n",
    "type(num_muons_dist)"
   ]
  },
  {
   "cell_type": "markdown",
   "id": "3fd20d69",
   "metadata": {},
   "source": [
    "Produce the simple plot we were attempting to do in the previous cell:\n",
    "- an histogram of the number of muons per record, comparing data and simulation."
   ]
  },
  {
   "cell_type": "code",
   "execution_count": null,
   "id": "ac386f79",
   "metadata": {},
   "outputs": [],
   "source": [
    "# use matplotlib to plot\n",
    "import matplotlib.pyplot as plt\n",
    "\n",
    "plt.figure(figsize=(8,6))\n",
    "\n",
    "# fill the histogram with the simulation (mc)\n",
    "mc_counts = num_muons_dist.loc[num_muons_dist['sample']=='mc']\n",
    "plt.bar(\n",
    "    mc_counts['nMuon'], mc_counts['count'],\n",
    "    label = 'Montecarlo', width=1, alpha=0.6\n",
    ")\n",
    "\n",
    "# use an errorbar plot to overlay data\n",
    "# the error is the square root of the counts\n",
    "data_counts = num_muons_dist.loc[num_muons_dist['sample']=='data']\n",
    "plt.errorbar(\n",
    "    data_counts['nMuon'],data_counts['count'],\n",
    "    yerr = np.sqrt(data_counts['count']),\n",
    "    label = 'Data', color='black', fmt='o'\n",
    ")\n",
    "plt.xlim(-0.5,16.5)\n",
    "plt.xlabel(\"Number of muons\")\n",
    "plt.ylabel(\"Counts\")\n",
    "plt.legend()\n",
    "plt.semilogy()\n",
    "plt.show()"
   ]
  },
  {
   "cell_type": "markdown",
   "id": "8c46a0c3",
   "metadata": {},
   "source": [
    "#### Step 2 - Filter and flatten the dataset\n",
    "\n",
    "The end-goal of this task is to study dimuon events, i.e. events/records having exactly 2 muons. \n",
    "\n",
    "Selecting such records is a simple filtering task, that can be performed in a variety of ways using the Spark DataFrame API:\n",
    "- `pandas`-like selections, e.g. `df[df.column > xyz]`\n",
    "- `where` or `filter` Spark DataFrame operations, analogous to the `filter` se used with RDDs\n",
    "- fully-fledged `SQL` statements"
   ]
  },
  {
   "cell_type": "markdown",
   "id": "054481bb",
   "metadata": {},
   "source": [
    "`pandas`-like selections do work similarly to their pandas counterpart by operating on columns of the DataFrame:\n",
    "\n",
    "```python\n",
    "df[df.column > xyz]\n",
    "```"
   ]
  },
  {
   "cell_type": "code",
   "execution_count": null,
   "id": "53ea2d2e",
   "metadata": {},
   "outputs": [],
   "source": [
    "# select only events with two muons\n",
    "dimuon_df = df[df['nMuon']==2]\n",
    "\n",
    "# print the first 5 rows\n",
    "dimuon_df.show(5)"
   ]
  },
  {
   "cell_type": "markdown",
   "id": "f3f55852",
   "metadata": {},
   "source": [
    "Also `where`/`filter` operations work similarly to the equivalent `pandas` logic.\n",
    "The two are alieases of the same function (specifically `where` is an alias of `filter`) therefore there is no difference in writing one or the other.\n",
    "\n",
    "We have already used `filter` on plain RDDs writing a Python function to apply to arbitrary data.\n",
    "\n",
    "Using `where`/`filter` with DataFrames and have it perform an operation on all items of a given colum is in principle a slightly different concept.\n",
    "\n",
    "Spark has to \"understand\" that we are working with a columnar object, and not with a plain collection of arbitrary data.\n",
    "This is what we refer to when we say that we have low-level APIs and high-level APIs. From the user point of view the method call is going to be the same, but the underlying \"wiring\" of the function is different (we are offered a similar _interface_ to different _inner functions_ in the two cases).\n",
    "\n",
    "We can write the same where/filter function in multiple ways:\n",
    "- specifying that we are operating on a column named `column`\n",
    "```python\n",
    "df.where(col('column')>xyz)\n",
    "```\n",
    "- recalling the column from the dataframe \n",
    "```python\n",
    "df.where(df['column']>xyz)\n",
    "```\n",
    "- using the column name in the filter field\n",
    "```python\n",
    "df.where(\"column > xyz\")\n",
    "```"
   ]
  },
  {
   "cell_type": "code",
   "execution_count": null,
   "id": "aad103e8",
   "metadata": {},
   "outputs": [],
   "source": [
    "# import the column object from pyspark\n",
    "from pyspark.sql.functions import col\n",
    "\n",
    "# apply where explicitely on the spark column object\n",
    "df.where(col('nMuon')==2)\\\n",
    "  .show(5)"
   ]
  },
  {
   "cell_type": "code",
   "execution_count": null,
   "id": "9d815fe7",
   "metadata": {},
   "outputs": [],
   "source": [
    "# apply where recalling the column from the dataframe\n",
    "df.where(df['nMuon']==2)\\\n",
    "  .show(5)"
   ]
  },
  {
   "cell_type": "code",
   "execution_count": null,
   "id": "847e1641",
   "metadata": {},
   "outputs": [],
   "source": [
    "# apply where (or filter) using the column name in the filter field\n",
    "df.filter(\"nMuon == 2\")\\\n",
    "  .show(5)"
   ]
  },
  {
   "cell_type": "markdown",
   "id": "13860423",
   "metadata": {},
   "source": [
    "Spark DataFrame has an underlying optimization engine for structured filters based on SQL.\n",
    "\n",
    "Dealing with structured data, a common usecase is to use Spark to interface with SQL:\n",
    "- use SQL statements to query large and possibly distributed structured datasets\n",
    "- connect to a remote SQL database and process data in parallel\n",
    "- preprocess large amounts of raw data and then translate them into tables of a DB for data management\n",
    "- ...\n",
    "\n",
    "In PySpark using the structured data API (actually named `pyspark.sql` as we have seen) we can create a table _view_ from our dataset, and then use plain SQL code to run the same filters or aggregations.\n",
    "\n",
    "The underlying scheduling and task optimization of Spark is always going to be there, and will help execute queries and data filters fast and efficiently."
   ]
  },
  {
   "cell_type": "code",
   "execution_count": null,
   "id": "3b66049d",
   "metadata": {
    "scrolled": false
   },
   "outputs": [],
   "source": [
    "# create a temporary table view of the dataframe \n",
    "# this will allow spark to execute SQL queries on the dataframe\n",
    "# treating the dataframe as a table in a RDBMS\n",
    "df.createOrReplaceTempView(\"dimuon_df_table\")\n",
    "\n",
    "# select all rows from the table\n",
    "# where the number of muons is 2\n",
    "spark.sql(\"\"\"\n",
    "          SELECT * FROM dimuon_df_table \n",
    "          WHERE nMuon = 2\n",
    "          \"\"\")\\\n",
    "     .show(5)"
   ]
  },
  {
   "cell_type": "markdown",
   "id": "938c4009",
   "metadata": {},
   "source": [
    "After filtering the dataset retaining only the data we want, we can start accessing the features and producing higher-level quantities and results.\n",
    "\n",
    "However, at this stage the Dataset is not flat, as we have nested content in the Muons column. "
   ]
  },
  {
   "cell_type": "code",
   "execution_count": null,
   "id": "6c5a9f83",
   "metadata": {},
   "outputs": [],
   "source": [
    "# print the dataframe schema\n",
    "dimuon_df.printSchema()"
   ]
  },
  {
   "cell_type": "markdown",
   "id": "353a9cf9",
   "metadata": {},
   "source": [
    "We can flatten our dataset for further processing: in this way we will be able to perform operations between columns as in a \"normal\" `pandas` DataFrame.\n",
    "\n",
    "A new column can be created by using `withColumn(name, func)` where :\n",
    "- `name` is the name to be assigned to the new column\n",
    "- `func` is a function taking as input one or more columns\n",
    "\n",
    "For instance, a function may be to multiply together values in different columns, or simply copying the elements of a nested structur into a plain column.\n",
    "\n",
    "However, any arbitrary complex function can be used to produce new columns: later we will define arbitrary **User Defined Functions (UDFs)** that will be applied to every row of the dataframe."
   ]
  },
  {
   "cell_type": "markdown",
   "id": "fcc92624",
   "metadata": {},
   "source": [
    "To refine our selection retaining only a subset of columns, we can use the `select` statement, similarly to the `SELECT` SQL keyword.\n",
    "\n",
    "On top of this, we can also drop all unused columns from the dataset with the `drop` function of the DataFrame.\n",
    "\n",
    "To recap:\n",
    "- `select()` projects a set of expressions and returns a new DataFrame\n",
    "- `withColumn()` creates a new attribute from the given column\n",
    "- `drop()` removes columns from the table"
   ]
  },
  {
   "cell_type": "code",
   "execution_count": null,
   "id": "9c202548",
   "metadata": {},
   "outputs": [],
   "source": [
    "# starting from the dimuon dataframe (the filtered one)\n",
    "dimuon_flat = (\n",
    "    # select only the columns we need for the analysis\n",
    "    dimuon_df.select([col('sample'), col('nMuon'), col('Muons')[0], col('Muons')[1]])\n",
    "    # and then flatten the Muons array into one column per feature:\n",
    "    #  - Energy                E\n",
    "    #  - Momentum along x-axis px\n",
    "    #  - Momentum along y-axis py\n",
    "    #  - Momentum along a-axis pz\n",
    "    #  - Charge                c\n",
    "    .withColumn('E1', col('Muons[0].E'))\n",
    "    .withColumn('px1', col('Muons[0].px'))\n",
    "    .withColumn('py1', col('Muons[0].py'))\n",
    "    .withColumn('pz1', col('Muons[0].pz'))\n",
    "    .withColumn('c1',  col('Muons[0].charge'))\n",
    "    .withColumn('E2',  col('Muons[1].E'))\n",
    "    .withColumn('px2', col('Muons[1].px'))\n",
    "    .withColumn('py2', col('Muons[1].py'))\n",
    "    .withColumn('pz2', col('Muons[1].pz'))\n",
    "    .withColumn('c2',  col('Muons[1].charge'))\n",
    "    # drop the two Muons nested structures\n",
    "    .drop('Muons[0]', 'Muons[1]')\n",
    ")\n",
    "\n",
    "# print the schema of the new dataframe\n",
    "dimuon_flat.printSchema()"
   ]
  },
  {
   "cell_type": "markdown",
   "id": "dc7458de",
   "metadata": {},
   "source": [
    "#### Step 3 - Computing new features\n",
    "\n",
    "At this stage we are left with pairs of muons with flat data structures.\n",
    "\n",
    "We would like to select only those pairs of muons with opposite electric charge, and compute the invariant mass from the four-momenta of the two selected particles.\n",
    "\n",
    "This is a relativistic invariant property that resonates around a given value in the case thw two muons are produced by the decay of a \"parent particle\"."
   ]
  },
  {
   "cell_type": "code",
   "execution_count": null,
   "id": "647c018e",
   "metadata": {},
   "outputs": [],
   "source": [
    "# starting from the flat dimuon dataset\n",
    "# select only the pairs with opposite charge\n",
    "dimuon_flat = dimuon_flat.where(col('c1')!=col('c2'))\n",
    "\n",
    "# count the number of opposite-charge pairs\n",
    "dimuon_flat.count()"
   ]
  },
  {
   "cell_type": "markdown",
   "id": "76711812",
   "metadata": {},
   "source": [
    "To compute the invariant mass of the two candidate muons we need first to compute the four-momentum of the parent particle \n",
    "\n",
    "$\n",
    "\\begin{align}\n",
    "p &= \\left(E_1+E_2,\\quad p_{x,1}+p_{x,2},\\quad p_{y,1}+p_{y,2},\\quad p_{z,1}+p_{z,2}\\right) = \\\\\n",
    "  &= \\left(E,\\;p_x,\\;p_y,\\;p_z\\right)=\\\\\n",
    "  &= \\left(E,\\;\\mathbf{p}\\right)\n",
    "\\end{align}\n",
    "$\n",
    "\n",
    "Create four new columns in the dataframe, one per each of the four coordinates: $(E,~p_x,~p_y,~p_z)$"
   ]
  },
  {
   "cell_type": "code",
   "execution_count": null,
   "id": "25f541cf",
   "metadata": {},
   "outputs": [],
   "source": [
    "# create four new columns for the four components of the momentum\n",
    "# and add them to the dataframe\n",
    "dimuon_flat = dimuon_flat.withColumn('E', col('E1')+col('E2'))\\\n",
    "                         .withColumn('px', col('px1')+col('px2'))\\\n",
    "                         .withColumn('py', col('py1')+col('py2'))\\\n",
    "                         .withColumn('pz', col('pz1')+col('pz2'))"
   ]
  },
  {
   "cell_type": "markdown",
   "id": "367177bd",
   "metadata": {},
   "source": [
    "From the 4-momentum of the candidate we can compute the invariant mass as\n",
    "\n",
    "$\n",
    "\\begin{align}\n",
    "M &= \\sqrt{p\\cdot p} =  \\sqrt{(E^2 - \\|\\mathbf{p}\\|^2)} =&\\\\\n",
    "  &= \\sqrt{E^2 - (p_x^2 + p_y^2 + p_z^2)}\n",
    "\\end{align}\n",
    "$\n",
    "\n",
    "We can compute it by manipulating directly the columns of the DataFrame."
   ]
  },
  {
   "cell_type": "code",
   "execution_count": null,
   "id": "57a6a4f3",
   "metadata": {},
   "outputs": [],
   "source": [
    "# compute the invariant mass\n",
    "\n",
    "# import the spark sqrt function \n",
    "from pyspark.sql.functions import sqrt\n",
    "\n",
    "# create a new column for the invariant mass\n",
    "dimuon_flat = dimuon_flat.withColumn('M', \n",
    "                                     sqrt( col('E')*col('E') - \n",
    "                                     (col('px')*col('px')+\n",
    "                                      col('py')*col('py')+\n",
    "                                      col('pz')*col('pz'))\n",
    "                                    )\n",
    ")\n",
    "\n",
    "# persist the dataframe after these new columns have been added\n",
    "dimuon_flat.persist()\n",
    "\n",
    "# show the first 5 values of the M column of the dataframe\n",
    "dimuon_flat.select('M').show(5)"
   ]
  },
  {
   "cell_type": "markdown",
   "id": "741f3cab",
   "metadata": {},
   "source": [
    "As we have anticipated, we can define custom functions and use them to evaluate complex features from the columns of our DataFrame.\n",
    "\n",
    "A User Defined Function (UDF) is any arbitrary Python function that can be evaluated by Spark on any row of your DataFrame.\n",
    "If there is any risk a UDF might fail (e.g. if the value of a column is `None`) you must remember to protect the function (e.g. by adding a `if _ is not None` condition).\n",
    "\n",
    "- PySpark UDFs are extremely useful when **there is no native Spark function available for the computation you need to perform**.\n",
    "- They are also a nice way of writing **simple Python code** and let Spark run it on the data stored in the partitions.\n",
    "- We can easily **write and reuse complex functions** in multiple occurrencies in our distributed computation.\n",
    "\n",
    "***BUT...*** the PySpark UDFs are custom Python code executed on Java VMs (the executors)...\n",
    "Spark will thus have to start Python processes on the excutors, execute the function row by row on that data in the Python process, and then finally return the results of the row operations to the JVM and Spark.\n",
    "**This typically takes a toll on the performances**"
   ]
  },
  {
   "cell_type": "code",
   "execution_count": null,
   "id": "92205706",
   "metadata": {},
   "outputs": [],
   "source": [
    "# create a pyspark udf\n",
    "from pyspark.sql.functions import udf\n",
    "import math\n",
    "\n",
    "# create a function that takes in four columns and returns a float\n",
    "# this is the function that will be used as the udf\n",
    "@udf('float')\n",
    "def invariant_mass(E, px, py, pz):\n",
    "    # the function evaluates plain python code \n",
    "    # no vectorization (numpy) is involved\n",
    "    return math.sqrt(E*E - (px*px + py*py + pz*pz))\n",
    "\n",
    "# apply the udf to the appropriate columns\n",
    "# and return the first 5 rows\n",
    "dimuon_flat.select(\n",
    "    invariant_mass(col('E'), col('px'), col('py'), col('pz'))\n",
    ").show(5)"
   ]
  },
  {
   "cell_type": "markdown",
   "id": "0c34c75a",
   "metadata": {},
   "source": [
    "To partially overcome the performance issues, we can use **Pandas UDFs in PySpark**, also referred to as **vectorized UDFs**.\n",
    "\n",
    "This allows to process PySpark's DataFrames and columns as Pandas DataDrames and Pandas series, respectively.\n",
    "\n",
    "Differently from the standard UDFs, these Pandas UDFs perform the same operation on the entire pandas series (vectorized operation) and do not run one-row-at-a-time.\n",
    "\n",
    "This provides a boost in the efficiency of the computation and thus should be preferred whenever there is the possibility.\n",
    "\n",
    "They result particularly efficient in the \"grouped maps\", i.e. by appling a user defined function after a groupby to perform dedicated aggregation on the data. \n",
    "\n",
    "More on this can be found [here](https://spark.apache.org/docs/latest/api/python/user_guide/sql/arrow_pandas.html#pandas-udfs-a-k-a-vectorized-udfs) and [here](https://spark.apache.org/docs/latest/api/python/user_guide/sql/arrow_pandas.html#grouped-map). "
   ]
  },
  {
   "cell_type": "code",
   "execution_count": null,
   "id": "4590b8a1",
   "metadata": {},
   "outputs": [],
   "source": [
    "# create a pyspark pandas udf\n",
    "from pyspark.sql.functions import pandas_udf\n",
    "\n",
    "# the pandas udf takes four pandas series\n",
    "# and returns a pandas series (a single column)\n",
    "@pandas_udf('float')\n",
    "def invariant_mass_udf(\n",
    "    # the four input pandas series (with explitic type definition)\n",
    "    E: pd.Series,\n",
    "    px: pd.Series,\n",
    "    py: pd.Series,\n",
    "    pz: pd.Series\n",
    ") -> pd.Series:\n",
    "    # the resulting pandas series (a numpy array)\n",
    "    # once again with the explicit type definition\n",
    "    return np.sqrt(E*E - (px*px + py*py + pz*pz))\n",
    "\n",
    "# apply the pandas udf to the appropriate columns\n",
    "# and return the first 5 rows\n",
    "#\n",
    "# we can also use an alias to rename the column\n",
    "dimuon_flat.select(\n",
    "    invariant_mass_udf(col('E'), col('px'), col('py'), col('pz')).alias('M pandas udf')\n",
    ").show(5)\n"
   ]
  },
  {
   "cell_type": "markdown",
   "id": "fd3c2293",
   "metadata": {},
   "source": [
    "Compute the average energy $E$ of the muons found in each of the two `sample` groups.\n",
    "\n",
    "To do this, run compare the two approaches:\n",
    "1. use only PySpark native functions to run groupBy and aggregations (look up [here](https://spark.apache.org/docs/latest/api/python/reference/pyspark.sql/grouping.html) about all the available built-in aggregations)\n",
    "2. use a vectorized-UDF to evaluate the average for each group"
   ]
  },
  {
   "cell_type": "markdown",
   "id": "2d75b03f",
   "metadata": {},
   "source": [
    "Use only PySpark native functions to run groupBy and aggregations"
   ]
  },
  {
   "cell_type": "markdown",
   "id": "ad534b7d",
   "metadata": {},
   "source": [
    "Use a vectorized-UDF to run the aggregation"
   ]
  },
  {
   "cell_type": "code",
   "execution_count": null,
   "id": "a0f38c75",
   "metadata": {},
   "outputs": [],
   "source": [
    "# compute the mean energy for muons in each \n",
    "# sample using pyspark native functions\n",
    "\n",
    "dimuon_flat.select(col('sample'), col('E'))\\\n",
    "           .groupBy('sample')\\\n",
    "           .mean()\\\n",
    "           .show()"
   ]
  },
  {
   "cell_type": "code",
   "execution_count": null,
   "id": "4c55b0d9",
   "metadata": {},
   "outputs": [],
   "source": [
    "# compute the mean energy for muons in each \n",
    "# sample using a pyspark vectorized udf function\n",
    "\n",
    "def average(\n",
    "    # the four input pandas series (with explitic type definition)\n",
    "    E: pd.Series,\n",
    ") -> pd.Series:\n",
    "    # the resulting pandas series (a numpy array)\n",
    "    # once again with the explicit type definition\n",
    "    return np.mean(E)\n",
    "\n",
    "dimuon_flat.select(col('sample')).groupBy('sample').select(\n",
    "    np.mean(col('E')).alias(\"avg\")).show()"
   ]
  },
  {
   "cell_type": "markdown",
   "id": "2d783a67",
   "metadata": {},
   "source": [
    "#### Step 4 - (Re-)Discovering particles\n",
    "\n",
    "Now that we have loaded our dataset in the cluster, inspected it, pre-processed it by selecting and flattening variables, and we have computed all the high-level quantities, we can finally use the dataset to perform the final analysis.\n",
    "\n",
    "For example, let's plot the invariant mass $M$ of the dimuon system in its whole range."
   ]
  },
  {
   "cell_type": "code",
   "execution_count": null,
   "id": "f85d34ea",
   "metadata": {},
   "outputs": [],
   "source": [
    "# compute the histogram of M\n",
    "# \n",
    "# 1. select the M column\n",
    "# 2. get the underlying RDD\n",
    "# 3. retrieve the M values into a histogram \n",
    "#    (remember the .histogram() RDD function from the previous notebook)\n",
    "# \n",
    "# - use 0-150 GeV as the histogram range\n",
    "# - use 2 GeV as the bin width\n",
    "range_min = 0\n",
    "range_max = 150\n",
    "bin_width = 2\n",
    "\n",
    "bins, counts = dimuon_flat.select('M')\\\n",
    "                          .rdd\\\n",
    "                          .histogram(list(np.arange(range_min,range_max,bin_width)))    \n",
    "\n",
    "# print the bins and counts to check the logic\n",
    "print(bins, counts)"
   ]
  },
  {
   "cell_type": "code",
   "execution_count": null,
   "id": "d2cd4905",
   "metadata": {},
   "outputs": [],
   "source": [
    "# create two histograms, one per sample (data/mc)\n",
    "\n",
    "# it could be convenient to use a dictionary \n",
    "# to host the two samples' bins and counts\n",
    "histogram_results = {}\n",
    "\n",
    "# perform the same pyspark function on both samples\n",
    "for sample in ['mc', 'data']:\n",
    "    histogram_results[sample] = {}\n",
    "    \n",
    "    bins, counts = dimuon_flat.where(col('sample')==sample)\\\n",
    "                              .select('M')\\\n",
    "                              .rdd\\\n",
    "                              .histogram(list(np.arange(range_min,range_max,bin_width)))    \n",
    "    \n",
    "    histogram_results[sample]['bins'] = bins\n",
    "    histogram_results[sample]['counts'] = counts"
   ]
  },
  {
   "cell_type": "code",
   "execution_count": null,
   "id": "71712c90",
   "metadata": {},
   "outputs": [],
   "source": [
    "# create a plot containing\n",
    "# - a filled histogram for the Simulation (mc)\n",
    "# - an errorbar plot for the Data (data), with sqrt(count) as the y-error\n",
    "# - show the resulting plot in semi-log scale\n",
    "plt.figure(figsize=(8,6))\n",
    "\n",
    "mc_res = histogram_results['mc']\n",
    "bin_centers = mc_res['bins'][:-1] + np.diff(mc_res['bins'])/2\n",
    "plt.hist(bin_centers, \n",
    "         weights=mc_res['counts'], \n",
    "         bins=mc_res['bins'],\n",
    "         label='Simulation', \n",
    "         alpha=0.6\n",
    ")\n",
    "\n",
    "data_res = histogram_results['data']\n",
    "bin_centers = data_res['bins'][:-1] + np.diff(data_res['bins'])/2\n",
    "plt.errorbar(\n",
    "    bin_centers, \n",
    "    data_res['counts'], \n",
    "    yerr=np.sqrt(data_res['counts']),\n",
    "    fmt='o', \n",
    "    ms=4, \n",
    "    lw=1, \n",
    "    color='black', \n",
    "    label='Data'\n",
    ")\n",
    "\n",
    "plt.xlabel(\"$m_{\\mu \\mu}$ [GeV]\")\n",
    "plt.ylabel(f\"Events/{bin_width}GeV\")\n",
    "plt.legend()\n",
    "plt.semilogy()\n",
    "plt.tight_layout()\n",
    "plt.show()"
   ]
  },
  {
   "cell_type": "markdown",
   "id": "0bb1892c",
   "metadata": {},
   "source": [
    "The plot shows a number of features we are not going to talk about in this class.\n",
    "\n",
    "However, to complete the exercise, we'll focus on the range 75-115 GeV, where it appears being a large resonance.\n",
    "\n",
    "We can create a new plot of data and simulations in that specific range with higher binning \"resolution\" (0.5 GeV), to study how well the simulation agrees with the experimenta data."
   ]
  },
  {
   "cell_type": "code",
   "execution_count": null,
   "id": "fe80f7ee",
   "metadata": {},
   "outputs": [],
   "source": [
    "# create a plot containing\n",
    "# - a filled histogram for the Simulation (mc)\n",
    "# - an errorbar plot for the Data (data), with sqrt(count) as the y-error\n",
    "# - show the resulting plot in semi-log scale\n",
    "histogram_results = {}\n",
    "for sample in ['mc', 'data']:\n",
    "    histogram_results[sample] = {}\n",
    "    \n",
    "    bins, counts = dimuon_flat.where(col('sample')==sample)\\\n",
    "                              .select('M')\\\n",
    "                              .rdd\\\n",
    "                              .histogram(list(np.arange(70,115,0.5)))\n",
    "    \n",
    "    histogram_results[sample]['bins'] = bins\n",
    "    histogram_results[sample]['counts'] = counts\n",
    "    \n",
    "plt.figure(figsize=(8,6))\n",
    "\n",
    "mc_res = histogram_results['mc']\n",
    "bin_centers = mc_res['bins'][:-1] + np.diff(mc_res['bins'])/2\n",
    "plt.hist(bin_centers, \n",
    "         weights=mc_res['counts'], \n",
    "         bins=mc_res['bins'],\n",
    "         label='Simulation', \n",
    "         alpha=0.6\n",
    ")\n",
    "\n",
    "data_res = histogram_results['data']\n",
    "bin_centers = data_res['bins'][:-1] + np.diff(data_res['bins'])/2\n",
    "plt.errorbar(\n",
    "    bin_centers, \n",
    "    data_res['counts'], \n",
    "    yerr=np.sqrt(data_res['counts']),\n",
    "    fmt='o', \n",
    "    ms=4, \n",
    "    lw=1, \n",
    "    color='black', \n",
    "    label='Data'\n",
    ")\n",
    "\n",
    "plt.xlabel(\"$m_{\\mu \\mu}$ [GeV]\")\n",
    "plt.ylabel(f\"Events/0.5GeV\")\n",
    "plt.legend()\n",
    "plt.tight_layout()\n",
    "plt.show()"
   ]
  },
  {
   "cell_type": "markdown",
   "id": "891a7328",
   "metadata": {},
   "source": [
    "We can try to perform some selection, to improve the quality of the signal and remove background, and hopefully this selection might help restoring a decent Data-Simulation agreement.\n",
    "\n",
    "To do this we can try look at dimuon candidates with a large transverse momentum \n",
    "\n",
    "$\n",
    "\\begin{align}\n",
    "p_T &= \\sqrt{p_x^2 + p_y^2} = \\\\\n",
    "    &= \\sqrt{(p_{x,1}+p_{x,2})^2 + (p_{y,1}+p_{y,2})^2}\n",
    "\\end{align}\n",
    "$\n",
    "\n",
    "- Create a colum with name `highpt` and for each row set the value to `True` if $p_T\\geq 30$ Gev and `False` otherwise\n",
    "    - Start from the two muons and use a UDF for this\n",
    "    - Use the PySpark `when` and `otherwise` function (have a look at the documentation [here](https://spark.apache.org/docs/latest/api/python/reference/pyspark.sql/api/pyspark.sql.Column.otherwise.html))\n",
    "- Plot the Data-Simulation comparison for dimuon candidates passing the `highpt` selection"
   ]
  },
  {
   "cell_type": "code",
   "execution_count": 6,
   "id": "ba342cc0",
   "metadata": {},
   "outputs": [
    {
     "ename": "NameError",
     "evalue": "name 'pandas_udf' is not defined",
     "output_type": "error",
     "traceback": [
      "\u001b[0;31m---------------------------------------------------------------------------\u001b[0m",
      "\u001b[0;31mNameError\u001b[0m                                 Traceback (most recent call last)",
      "Cell \u001b[0;32mIn[6], line 3\u001b[0m\n\u001b[1;32m      1\u001b[0m \u001b[38;5;66;03m# create the udf to evaluate the dimuon pT\u001b[39;00m\n\u001b[0;32m----> 3\u001b[0m \u001b[38;5;129m@pandas_udf\u001b[39m(\u001b[38;5;124m'\u001b[39m\u001b[38;5;124mfloat\u001b[39m\u001b[38;5;124m'\u001b[39m)\n\u001b[1;32m      4\u001b[0m \u001b[38;5;28;01mdef\u001b[39;00m \u001b[38;5;21minvariant_mass_udf\u001b[39m(\n\u001b[1;32m      5\u001b[0m     \u001b[38;5;66;03m# the four input pandas series (with explitic type definition)\u001b[39;00m\n\u001b[1;32m      6\u001b[0m     px1: pd\u001b[38;5;241m.\u001b[39mSeries,\n\u001b[1;32m      7\u001b[0m     px2: pd\u001b[38;5;241m.\u001b[39mSeries,\n\u001b[1;32m      8\u001b[0m     py1: pd\u001b[38;5;241m.\u001b[39mSeries,\n\u001b[1;32m      9\u001b[0m     py2: pd\u001b[38;5;241m.\u001b[39mSeries\n\u001b[1;32m     10\u001b[0m ) \u001b[38;5;241m-\u001b[39m\u001b[38;5;241m>\u001b[39m pd\u001b[38;5;241m.\u001b[39mSeries:\n\u001b[1;32m     11\u001b[0m     \u001b[38;5;66;03m# the resulting pandas series (a numpy array)\u001b[39;00m\n\u001b[1;32m     12\u001b[0m     \u001b[38;5;66;03m# once again with the explicit type definition\u001b[39;00m\n\u001b[1;32m     13\u001b[0m     \u001b[38;5;28;01mreturn\u001b[39;00m np\u001b[38;5;241m.\u001b[39msqrt((px1\u001b[38;5;241m+\u001b[39mpx2)\u001b[38;5;241m*\u001b[39m\u001b[38;5;241m*\u001b[39m\u001b[38;5;241m0.5\u001b[39m \u001b[38;5;241m+\u001b[39m (py1\u001b[38;5;241m+\u001b[39mpy2)\u001b[38;5;241m*\u001b[39m\u001b[38;5;241m*\u001b[39m\u001b[38;5;241m0.5\u001b[39m)\n",
      "\u001b[0;31mNameError\u001b[0m: name 'pandas_udf' is not defined"
     ]
    }
   ],
   "source": [
    "# create the udf to evaluate the dimuon pT\n",
    "\n",
    "@pandas_udf('float')\n",
    "def candidate_pt(\n",
    "    # the four input pandas series (with explitic type definition)\n",
    "    px1: pd.Series,\n",
    "    px2: pd.Series,\n",
    "    py1: pd.Series,\n",
    "    py2: pd.Series\n",
    ") -> pd.Series:\n",
    "    # the resulting pandas series (a numpy array)\n",
    "    # once again with the explicit type definition\n",
    "    return np.sqrt((px1+px2)**0.5 + (py1+py2)**0.5)\n"
   ]
  },
  {
   "cell_type": "code",
   "execution_count": null,
   "id": "6bc981c0",
   "metadata": {},
   "outputs": [],
   "source": [
    "# apply the udf to the dimuon_flat dataframe\n",
    "dimuon_flat = dimuon_flat.withColumn(\"pT\",\n",
    "                                     candidate_pt(col('px1'),col('py1'),col('px2'),col('py2'))).show(5)"
   ]
  },
  {
   "cell_type": "code",
   "execution_count": null,
   "id": "1591ecb5",
   "metadata": {
    "scrolled": true
   },
   "outputs": [],
   "source": [
    "# import the when function from pyspark.sql\n",
    "from pyspark.sql import functions as F\n",
    "\n",
    "# create the `highpt` feature with where/otherwise\n",
    "dimuon_flat = dimuon_flat.withColumn(\"highpt\",select(dimuon_flat.highpt,F.when(dimuon_flat.pT>=30,True).otherwise(False)))"
   ]
  },
  {
   "cell_type": "code",
   "execution_count": null,
   "id": "9cb08d2c",
   "metadata": {},
   "outputs": [],
   "source": [
    "# inspect a few rows of the dataframe \n",
    "# to verify the feature is set correctly\n",
    "dimuon_flat['sample','M','pT','highpt'].show(5)"
   ]
  },
  {
   "cell_type": "code",
   "execution_count": null,
   "id": "6d446d0e",
   "metadata": {},
   "outputs": [],
   "source": [
    "# create the two data-simulation comparison plots\n",
    "# for low- and high-pt dimuon candidate\n",
    "dimuon_low=dimuon_flat.where(col('highpt')==False)\n",
    "dimuon_high=dimuon_flat.where(col('highpt')==True)\n",
    "\n",
    "\n",
    "histogram_results = {}\n",
    "for sample in ['mc', 'data']:\n",
    "    histogram_results[sample] = {}\n",
    "    \n",
    "    bins, counts = dimuon_low.where(col('sample')==sample)\\\n",
    "                              .select('M')\\\n",
    "                              .rdd\\\n",
    "                              .histogram(list(np.arange(70,115,0.5)))\n",
    "    \n",
    "    histogram_results[sample]['bins'] = bins\n",
    "    histogram_results[sample]['counts'] = counts\n",
    "    \n",
    "plt.figure(figsize=(8,6))\n",
    "\n",
    "mc_res = histogram_results['mc']\n",
    "bin_centers = mc_res['bins'][:-1] + np.diff(mc_res['bins'])/2\n",
    "plt.hist(bin_centers, \n",
    "         weights=mc_res['counts'], \n",
    "         bins=mc_res['bins'],\n",
    "         label='Simulation', \n",
    "         alpha=0.6\n",
    ")\n",
    "\n",
    "data_res = histogram_results['data']\n",
    "bin_centers = data_res['bins'][:-1] + np.diff(data_res['bins'])/2\n",
    "plt.errorbar(\n",
    "    bin_centers, \n",
    "    data_res['counts'], \n",
    "    yerr=np.sqrt(data_res['counts']),\n",
    "    fmt='o', \n",
    "    ms=4, \n",
    "    lw=1, \n",
    "    color='black', \n",
    "    label='Data'\n",
    ")\n",
    "\n",
    "plt.xlabel(\"$m_{\\mu \\mu}$ [GeV]\")\n",
    "plt.ylabel(f\"Events/0.5GeV\")\n",
    "plt.legend()\n",
    "plt.tight_layout()\n",
    "plt.show()\n",
    "\n",
    "\n",
    "\n",
    "\n",
    "histogram_results = {}\n",
    "for sample in ['mc', 'data']:\n",
    "    histogram_results[sample] = {}\n",
    "    \n",
    "    bins, counts = dimuon_high.where(col('sample')==sample)\\\n",
    "                              .select('M')\\\n",
    "                              .rdd\\\n",
    "                              .histogram(list(np.arange(70,115,0.5)))\n",
    "    \n",
    "    histogram_results[sample]['bins'] = bins\n",
    "    histogram_results[sample]['counts'] = counts\n",
    "    \n",
    "plt.figure(figsize=(8,6))\n",
    "\n",
    "mc_res = histogram_results['mc']\n",
    "bin_centers = mc_res['bins'][:-1] + np.diff(mc_res['bins'])/2\n",
    "plt.hist(bin_centers, \n",
    "         weights=mc_res['counts'], \n",
    "         bins=mc_res['bins'],\n",
    "         label='Simulation', \n",
    "         alpha=0.6\n",
    ")\n",
    "\n",
    "data_res = histogram_results['data']\n",
    "bin_centers = data_res['bins'][:-1] + np.diff(data_res['bins'])/2\n",
    "plt.errorbar(\n",
    "    bin_centers, \n",
    "    data_res['counts'], \n",
    "    yerr=np.sqrt(data_res['counts']),\n",
    "    fmt='o', \n",
    "    ms=4, \n",
    "    lw=1, \n",
    "    color='black', \n",
    "    label='Data'\n",
    ")\n",
    "\n",
    "plt.xlabel(\"$m_{\\mu \\mu}$ [GeV]\")\n",
    "plt.ylabel(f\"Events/0.5GeV\")\n",
    "plt.legend()\n",
    "plt.tight_layout()\n",
    "plt.show()"
   ]
  },
  {
   "cell_type": "markdown",
   "id": "f53cb88c",
   "metadata": {},
   "source": [
    "## Stop worker and master"
   ]
  },
  {
   "cell_type": "code",
   "execution_count": 8,
   "id": "e46ffaa7",
   "metadata": {},
   "outputs": [
    {
     "ename": "ConnectionRefusedError",
     "evalue": "[Errno 111] Connection refused",
     "output_type": "error",
     "traceback": [
      "\u001b[0;31m---------------------------------------------------------------------------\u001b[0m",
      "\u001b[0;31mConnectionRefusedError\u001b[0m                    Traceback (most recent call last)",
      "Cell \u001b[0;32mIn[8], line 1\u001b[0m\n\u001b[0;32m----> 1\u001b[0m \u001b[43msc\u001b[49m\u001b[38;5;241;43m.\u001b[39;49m\u001b[43mstop\u001b[49m\u001b[43m(\u001b[49m\u001b[43m)\u001b[49m\n\u001b[1;32m      2\u001b[0m spark\u001b[38;5;241m.\u001b[39mstop()\n",
      "File \u001b[0;32m/usr/bin/spark-3.3.2-bin-hadoop3/python/pyspark/context.py:558\u001b[0m, in \u001b[0;36mSparkContext.stop\u001b[0;34m(self)\u001b[0m\n\u001b[1;32m    556\u001b[0m \u001b[38;5;28;01mif\u001b[39;00m \u001b[38;5;28mgetattr\u001b[39m(\u001b[38;5;28mself\u001b[39m, \u001b[38;5;124m\"\u001b[39m\u001b[38;5;124m_jsc\u001b[39m\u001b[38;5;124m\"\u001b[39m, \u001b[38;5;28;01mNone\u001b[39;00m):\n\u001b[1;32m    557\u001b[0m     \u001b[38;5;28;01mtry\u001b[39;00m:\n\u001b[0;32m--> 558\u001b[0m         \u001b[38;5;28;43mself\u001b[39;49m\u001b[38;5;241;43m.\u001b[39;49m\u001b[43m_jsc\u001b[49m\u001b[38;5;241;43m.\u001b[39;49m\u001b[43mstop\u001b[49m\u001b[43m(\u001b[49m\u001b[43m)\u001b[49m\n\u001b[1;32m    559\u001b[0m     \u001b[38;5;28;01mexcept\u001b[39;00m Py4JError:\n\u001b[1;32m    560\u001b[0m         \u001b[38;5;66;03m# Case: SPARK-18523\u001b[39;00m\n\u001b[1;32m    561\u001b[0m         warnings\u001b[38;5;241m.\u001b[39mwarn(\n\u001b[1;32m    562\u001b[0m             \u001b[38;5;124m\"\u001b[39m\u001b[38;5;124mUnable to cleanly shutdown Spark JVM process.\u001b[39m\u001b[38;5;124m\"\u001b[39m\n\u001b[1;32m    563\u001b[0m             \u001b[38;5;124m\"\u001b[39m\u001b[38;5;124m It is possible that the process has crashed,\u001b[39m\u001b[38;5;124m\"\u001b[39m\n\u001b[1;32m    564\u001b[0m             \u001b[38;5;124m\"\u001b[39m\u001b[38;5;124m been killed or may also be in a zombie state.\u001b[39m\u001b[38;5;124m\"\u001b[39m,\n\u001b[1;32m    565\u001b[0m             \u001b[38;5;167;01mRuntimeWarning\u001b[39;00m,\n\u001b[1;32m    566\u001b[0m         )\n",
      "File \u001b[0;32m/usr/bin/spark-3.3.2-bin-hadoop3/python/lib/py4j-0.10.9.5-src.zip/py4j/java_gateway.py:1320\u001b[0m, in \u001b[0;36mJavaMember.__call__\u001b[0;34m(self, *args)\u001b[0m\n\u001b[1;32m   1313\u001b[0m args_command, temp_args \u001b[38;5;241m=\u001b[39m \u001b[38;5;28mself\u001b[39m\u001b[38;5;241m.\u001b[39m_build_args(\u001b[38;5;241m*\u001b[39margs)\n\u001b[1;32m   1315\u001b[0m command \u001b[38;5;241m=\u001b[39m proto\u001b[38;5;241m.\u001b[39mCALL_COMMAND_NAME \u001b[38;5;241m+\u001b[39m\\\n\u001b[1;32m   1316\u001b[0m     \u001b[38;5;28mself\u001b[39m\u001b[38;5;241m.\u001b[39mcommand_header \u001b[38;5;241m+\u001b[39m\\\n\u001b[1;32m   1317\u001b[0m     args_command \u001b[38;5;241m+\u001b[39m\\\n\u001b[1;32m   1318\u001b[0m     proto\u001b[38;5;241m.\u001b[39mEND_COMMAND_PART\n\u001b[0;32m-> 1320\u001b[0m answer \u001b[38;5;241m=\u001b[39m \u001b[38;5;28;43mself\u001b[39;49m\u001b[38;5;241;43m.\u001b[39;49m\u001b[43mgateway_client\u001b[49m\u001b[38;5;241;43m.\u001b[39;49m\u001b[43msend_command\u001b[49m\u001b[43m(\u001b[49m\u001b[43mcommand\u001b[49m\u001b[43m)\u001b[49m\n\u001b[1;32m   1321\u001b[0m return_value \u001b[38;5;241m=\u001b[39m get_return_value(\n\u001b[1;32m   1322\u001b[0m     answer, \u001b[38;5;28mself\u001b[39m\u001b[38;5;241m.\u001b[39mgateway_client, \u001b[38;5;28mself\u001b[39m\u001b[38;5;241m.\u001b[39mtarget_id, \u001b[38;5;28mself\u001b[39m\u001b[38;5;241m.\u001b[39mname)\n\u001b[1;32m   1324\u001b[0m \u001b[38;5;28;01mfor\u001b[39;00m temp_arg \u001b[38;5;129;01min\u001b[39;00m temp_args:\n",
      "File \u001b[0;32m/usr/bin/spark-3.3.2-bin-hadoop3/python/lib/py4j-0.10.9.5-src.zip/py4j/java_gateway.py:1036\u001b[0m, in \u001b[0;36mGatewayClient.send_command\u001b[0;34m(self, command, retry, binary)\u001b[0m\n\u001b[1;32m   1015\u001b[0m \u001b[38;5;28;01mdef\u001b[39;00m \u001b[38;5;21msend_command\u001b[39m(\u001b[38;5;28mself\u001b[39m, command, retry\u001b[38;5;241m=\u001b[39m\u001b[38;5;28;01mTrue\u001b[39;00m, binary\u001b[38;5;241m=\u001b[39m\u001b[38;5;28;01mFalse\u001b[39;00m):\n\u001b[1;32m   1016\u001b[0m \u001b[38;5;250m    \u001b[39m\u001b[38;5;124;03m\"\"\"Sends a command to the JVM. This method is not intended to be\u001b[39;00m\n\u001b[1;32m   1017\u001b[0m \u001b[38;5;124;03m       called directly by Py4J users. It is usually called by\u001b[39;00m\n\u001b[1;32m   1018\u001b[0m \u001b[38;5;124;03m       :class:`JavaMember` instances.\u001b[39;00m\n\u001b[0;32m   (...)\u001b[0m\n\u001b[1;32m   1034\u001b[0m \u001b[38;5;124;03m     if `binary` is `True`.\u001b[39;00m\n\u001b[1;32m   1035\u001b[0m \u001b[38;5;124;03m    \"\"\"\u001b[39;00m\n\u001b[0;32m-> 1036\u001b[0m     connection \u001b[38;5;241m=\u001b[39m \u001b[38;5;28;43mself\u001b[39;49m\u001b[38;5;241;43m.\u001b[39;49m\u001b[43m_get_connection\u001b[49m\u001b[43m(\u001b[49m\u001b[43m)\u001b[49m\n\u001b[1;32m   1037\u001b[0m     \u001b[38;5;28;01mtry\u001b[39;00m:\n\u001b[1;32m   1038\u001b[0m         response \u001b[38;5;241m=\u001b[39m connection\u001b[38;5;241m.\u001b[39msend_command(command)\n",
      "File \u001b[0;32m/usr/bin/spark-3.3.2-bin-hadoop3/python/lib/py4j-0.10.9.5-src.zip/py4j/clientserver.py:284\u001b[0m, in \u001b[0;36mJavaClient._get_connection\u001b[0;34m(self)\u001b[0m\n\u001b[1;32m    281\u001b[0m     \u001b[38;5;28;01mpass\u001b[39;00m\n\u001b[1;32m    283\u001b[0m \u001b[38;5;28;01mif\u001b[39;00m connection \u001b[38;5;129;01mis\u001b[39;00m \u001b[38;5;28;01mNone\u001b[39;00m \u001b[38;5;129;01mor\u001b[39;00m connection\u001b[38;5;241m.\u001b[39msocket \u001b[38;5;129;01mis\u001b[39;00m \u001b[38;5;28;01mNone\u001b[39;00m:\n\u001b[0;32m--> 284\u001b[0m     connection \u001b[38;5;241m=\u001b[39m \u001b[38;5;28;43mself\u001b[39;49m\u001b[38;5;241;43m.\u001b[39;49m\u001b[43m_create_new_connection\u001b[49m\u001b[43m(\u001b[49m\u001b[43m)\u001b[49m\n\u001b[1;32m    285\u001b[0m \u001b[38;5;28;01mreturn\u001b[39;00m connection\n",
      "File \u001b[0;32m/usr/bin/spark-3.3.2-bin-hadoop3/python/lib/py4j-0.10.9.5-src.zip/py4j/clientserver.py:291\u001b[0m, in \u001b[0;36mJavaClient._create_new_connection\u001b[0;34m(self)\u001b[0m\n\u001b[1;32m    287\u001b[0m \u001b[38;5;28;01mdef\u001b[39;00m \u001b[38;5;21m_create_new_connection\u001b[39m(\u001b[38;5;28mself\u001b[39m):\n\u001b[1;32m    288\u001b[0m     connection \u001b[38;5;241m=\u001b[39m ClientServerConnection(\n\u001b[1;32m    289\u001b[0m         \u001b[38;5;28mself\u001b[39m\u001b[38;5;241m.\u001b[39mjava_parameters, \u001b[38;5;28mself\u001b[39m\u001b[38;5;241m.\u001b[39mpython_parameters,\n\u001b[1;32m    290\u001b[0m         \u001b[38;5;28mself\u001b[39m\u001b[38;5;241m.\u001b[39mgateway_property, \u001b[38;5;28mself\u001b[39m)\n\u001b[0;32m--> 291\u001b[0m     \u001b[43mconnection\u001b[49m\u001b[38;5;241;43m.\u001b[39;49m\u001b[43mconnect_to_java_server\u001b[49m\u001b[43m(\u001b[49m\u001b[43m)\u001b[49m\n\u001b[1;32m    292\u001b[0m     \u001b[38;5;28mself\u001b[39m\u001b[38;5;241m.\u001b[39mset_thread_connection(connection)\n\u001b[1;32m    293\u001b[0m     \u001b[38;5;28;01mreturn\u001b[39;00m connection\n",
      "File \u001b[0;32m/usr/bin/spark-3.3.2-bin-hadoop3/python/lib/py4j-0.10.9.5-src.zip/py4j/clientserver.py:438\u001b[0m, in \u001b[0;36mClientServerConnection.connect_to_java_server\u001b[0;34m(self)\u001b[0m\n\u001b[1;32m    435\u001b[0m \u001b[38;5;28;01mif\u001b[39;00m \u001b[38;5;28mself\u001b[39m\u001b[38;5;241m.\u001b[39mssl_context:\n\u001b[1;32m    436\u001b[0m     \u001b[38;5;28mself\u001b[39m\u001b[38;5;241m.\u001b[39msocket \u001b[38;5;241m=\u001b[39m \u001b[38;5;28mself\u001b[39m\u001b[38;5;241m.\u001b[39mssl_context\u001b[38;5;241m.\u001b[39mwrap_socket(\n\u001b[1;32m    437\u001b[0m         \u001b[38;5;28mself\u001b[39m\u001b[38;5;241m.\u001b[39msocket, server_hostname\u001b[38;5;241m=\u001b[39m\u001b[38;5;28mself\u001b[39m\u001b[38;5;241m.\u001b[39mjava_address)\n\u001b[0;32m--> 438\u001b[0m \u001b[38;5;28;43mself\u001b[39;49m\u001b[38;5;241;43m.\u001b[39;49m\u001b[43msocket\u001b[49m\u001b[38;5;241;43m.\u001b[39;49m\u001b[43mconnect\u001b[49m\u001b[43m(\u001b[49m\u001b[43m(\u001b[49m\u001b[38;5;28;43mself\u001b[39;49m\u001b[38;5;241;43m.\u001b[39;49m\u001b[43mjava_address\u001b[49m\u001b[43m,\u001b[49m\u001b[43m \u001b[49m\u001b[38;5;28;43mself\u001b[39;49m\u001b[38;5;241;43m.\u001b[39;49m\u001b[43mjava_port\u001b[49m\u001b[43m)\u001b[49m\u001b[43m)\u001b[49m\n\u001b[1;32m    439\u001b[0m \u001b[38;5;28mself\u001b[39m\u001b[38;5;241m.\u001b[39mstream \u001b[38;5;241m=\u001b[39m \u001b[38;5;28mself\u001b[39m\u001b[38;5;241m.\u001b[39msocket\u001b[38;5;241m.\u001b[39mmakefile(\u001b[38;5;124m\"\u001b[39m\u001b[38;5;124mrb\u001b[39m\u001b[38;5;124m\"\u001b[39m)\n\u001b[1;32m    440\u001b[0m \u001b[38;5;28mself\u001b[39m\u001b[38;5;241m.\u001b[39mis_connected \u001b[38;5;241m=\u001b[39m \u001b[38;5;28;01mTrue\u001b[39;00m\n",
      "\u001b[0;31mConnectionRefusedError\u001b[0m: [Errno 111] Connection refused"
     ]
    }
   ],
   "source": [
    "sc.stop()\n",
    "spark.stop()"
   ]
  },
  {
   "cell_type": "markdown",
   "id": "78e424f6",
   "metadata": {},
   "source": [
    "Finally, use `docker compose down` to stop and clear all running containers."
   ]
  }
 ],
 "metadata": {
  "kernelspec": {
   "display_name": "Python 3 (ipykernel)",
   "language": "python",
   "name": "python3"
  },
  "language_info": {
   "codemirror_mode": {
    "name": "ipython",
    "version": 3
   },
   "file_extension": ".py",
   "mimetype": "text/x-python",
   "name": "python",
   "nbconvert_exporter": "python",
   "pygments_lexer": "ipython3",
   "version": "3.9.12"
  }
 },
 "nbformat": 4,
 "nbformat_minor": 5
}
